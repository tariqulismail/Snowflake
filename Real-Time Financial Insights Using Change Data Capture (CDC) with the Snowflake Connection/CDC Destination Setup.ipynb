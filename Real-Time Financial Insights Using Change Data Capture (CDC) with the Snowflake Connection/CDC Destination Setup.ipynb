{
 "metadata": {
  "kernelspec": {
   "display_name": "Streamlit Notebook",
   "name": "streamlit"
  },
  "lastEditStatus": {
   "notebookId": "rqwhmi5maj6lfy2iqffq",
   "authorId": "7618777916893",
   "authorName": "EDGE",
   "authorEmail": "tariquldevelopment@gmail.com",
   "sessionId": "871d9936-4f14-47c1-a579-ebe7fb0e1909",
   "lastEditTime": 1743486180522
  }
 },
 "nbformat_minor": 5,
 "nbformat": 4,
 "cells": [
  {
   "metadata": {
    "name": "notebook_title_markdown",
    "collapsed": false,
    "resultHeight": 141
   },
   "cell_type": "markdown",
   "source": "# Create Source Database & Dynamic Table\nFirst, create the destination database to use the Snowflake Connector for PostgreSQL to load data from PostgreSQL into Snowflake.",
   "id": "f2bca11e-78c9-42f4-94b3-c7df9a57d40f"
  },
  {
   "metadata": {
    "name": "get_active_session",
    "language": "python",
    "collapsed": false,
    "resultHeight": 0
   },
   "cell_type": "code",
   "outputs": [],
   "execution_count": null,
   "source": [
    "import warnings\n",
    "warnings.filterwarnings(\"ignore\")\n",
    "\n",
    "from snowflake.snowpark.context import get_active_session\n",
    "session = get_active_session()\n",
    "session.query_tag = {\"origin\":\"sf_sit-is\", \n",
    "                     \"name\":\"cdc_postgres\", \n",
    "                     \"version\":{\"major\":1, \"minor\":0},\n",
    "                     \"attributes\":{\"is_quickstart\":1, \"source\":\"notebook\"}}"
   ],
   "id": "33b33ce5-16c8-4820-8f63-63a92d999fec"
  },
  {
   "cell_type": "code",
   "id": "d93282a3-6d09-40e0-8f02-86cce2b9aa65",
   "metadata": {
    "language": "sql",
    "name": "cell1"
   },
   "outputs": [],
   "source": "USE ROLE accountadmin;",
   "execution_count": null
  },
  {
   "cell_type": "code",
   "id": "053c60d3-1194-4507-b668-4aaa15ed02cd",
   "metadata": {
    "language": "sql",
    "name": "create_destination_database",
    "collapsed": false,
    "resultHeight": 112
   },
   "outputs": [],
   "source": [
    "CREATE OR REPLACE DATABASE CONNECTOR_DEST_DB;\n",
    "GRANT CREATE SCHEMA ON DATABASE CONNECTOR_DEST_DB TO APPLICATION SNOWFLAKE_CONNECTOR_FOR_POSTGRESQL;"
   ],
   "execution_count": null
  },
  {
   "cell_type": "markdown",
   "id": "07612e1f-261f-423d-a675-42743b771252",
   "metadata": {
    "name": "data_source_markdown",
    "collapsed": false,
    "resultHeight": 92
   },
   "source": "Add the data source `PSQLDS1` (PostgreSQL Data Source 1) by calling `ADD_DATA_SOURCE`. Afterwards, add the tables from PostgreSQL into Snowflake by calling `ADD_TABLES` using the data source, PostgreSQL schema, and PostgreSQL table names."
  },
  {
   "cell_type": "code",
   "id": "37ef408b-af6e-4095-8c9d-95009b0a414c",
   "metadata": {
    "language": "sql",
    "name": "table_replication",
    "collapsed": false,
    "resultHeight": 112
   },
   "outputs": [],
   "source": [
    "CALL SNOWFLAKE_CONNECTOR_FOR_POSTGRESQL.PUBLIC.ADD_DATA_SOURCE('PSQLDS1', 'CONNECTOR_DEST_DB');\n",
    "CALL SNOWFLAKE_CONNECTOR_FOR_POSTGRESQL.PUBLIC.ADD_TABLES('PSQLDS1', 'raw_cdc', ARRAY_CONSTRUCT('customers'));\n",
    "CALL SNOWFLAKE_CONNECTOR_FOR_POSTGRESQL.PUBLIC.ADD_TABLES('PSQLDS1', 'raw_cdc', ARRAY_CONSTRUCT('merchants'));\n",
    "CALL SNOWFLAKE_CONNECTOR_FOR_POSTGRESQL.PUBLIC.ADD_TABLES('PSQLDS1', 'raw_cdc', ARRAY_CONSTRUCT('products'));\n",
    "CALL SNOWFLAKE_CONNECTOR_FOR_POSTGRESQL.PUBLIC.ADD_TABLES('PSQLDS1', 'raw_cdc', ARRAY_CONSTRUCT('transactions'));"
   ],
   "execution_count": null
  },
  {
   "cell_type": "markdown",
   "id": "a05119ab-8537-4ebc-8e66-100310e0f772",
   "metadata": {
    "name": "rerun_markdown",
    "collapsed": false,
    "resultHeight": 67
   },
   "source": "Re-run the `check_replication_state` cell about every minute until both the `SCHEMA_INTROSPECTION_STATUS` and `SNAPSHOT_REPLICATION_STATUS` are `DONE`."
  },
  {
   "cell_type": "code",
   "id": "03e4396a-4cd1-4f03-be93-0c3409669cf9",
   "metadata": {
    "language": "sql",
    "name": "check_replication_state",
    "collapsed": false,
    "resultHeight": 217
   },
   "outputs": [],
   "source": "SELECT * FROM SNOWFLAKE_CONNECTOR_FOR_POSTGRESQL.PUBLIC.REPLICATION_STATE;",
   "execution_count": null
  },
  {
   "cell_type": "markdown",
   "id": "84b228e4-ce0b-40e5-a346-cfcd980cb15f",
   "metadata": {
    "name": "check_rows_markdown",
    "collapsed": false,
    "resultHeight": 67
   },
   "source": "Check to see the rows that have been added after the initial load. This is empty right after the initial load and filled with data once there are changes in the PostgreSQL tables that are replicated to Snowflake after the initial load."
  },
  {
   "cell_type": "code",
   "id": "7b88ac55-9c87-45d8-b0d6-401d33d447bf",
   "metadata": {
    "language": "sql",
    "name": "check_replication_stats"
   },
   "outputs": [],
   "source": "SELECT * FROM SNOWFLAKE_CONNECTOR_FOR_POSTGRESQL.PUBLIC.CONNECTOR_STATS;",
   "execution_count": null
  },
  {
   "cell_type": "markdown",
   "id": "d02aede9-a4dd-40e9-958a-a40b6407bb33",
   "metadata": {
    "name": "select_all_markdown",
    "collapsed": false,
    "resultHeight": 41
   },
   "source": "Check that the base tables have been properly loaded."
  },
  {
   "cell_type": "code",
   "id": "9e3bd592-4d60-4f2e-9cde-dd6213b10b55",
   "metadata": {
    "language": "sql",
    "name": "check_customers",
    "collapsed": false,
    "resultHeight": 439
   },
   "outputs": [],
   "source": "SELECT * FROM CONNECTOR_DEST_DB.\"raw_cdc\".\"customers\";",
   "execution_count": null
  },
  {
   "cell_type": "code",
   "id": "ef7dc23d-4966-48b4-8bb8-ce8b4c06692c",
   "metadata": {
    "language": "sql",
    "name": "check_merchants",
    "collapsed": false,
    "resultHeight": 439
   },
   "outputs": [],
   "source": "SELECT * FROM CONNECTOR_DEST_DB.\"raw_cdc\".\"merchants\";",
   "execution_count": null
  },
  {
   "cell_type": "code",
   "id": "28387d56-48e9-4f88-ad0b-1869ffe02ccb",
   "metadata": {
    "language": "sql",
    "name": "check_products",
    "collapsed": false,
    "resultHeight": 439
   },
   "outputs": [],
   "source": "SELECT * FROM CONNECTOR_DEST_DB.\"raw_cdc\".\"products\";",
   "execution_count": null
  },
  {
   "cell_type": "code",
   "id": "a4c4b7c3-780d-4233-a017-327117cc1a69",
   "metadata": {
    "language": "sql",
    "name": "check_transactions",
    "collapsed": false,
    "resultHeight": 439
   },
   "outputs": [],
   "source": "SELECT * FROM CONNECTOR_DEST_DB.\"raw_cdc\".\"transactions\";",
   "execution_count": null
  },
  {
   "cell_type": "markdown",
   "id": "4a1ab3f8-1b7f-4f2f-8a4d-d57f94906847",
   "metadata": {
    "name": "dynamic_table_markdown",
    "collapsed": false,
    "resultHeight": 92
   },
   "source": "The Dynamic Table `customer_purchase_summary` is composed of specified columnrs from the `customers`, `merchants`, `products`, and `transactions` tables. When new transactions are inserted in PostgreSQL DB, the Dynamic Table will automatically populate with the new data from PostgreSQL in Snowflake."
  },
  {
   "cell_type": "code",
   "id": "c695373e-ac74-4b62-a1f1-08206cbd5c81",
   "metadata": {
    "language": "sql",
    "name": "create_dynamic_table",
    "collapsed": false,
    "resultHeight": 112
   },
   "source": [
    "CREATE OR REPLACE DYNAMIC TABLE cdc_prod.analytics.customer_purchase_summary\n",
    "TARGET_LAG = '1 minute' \n",
    "WAREHOUSE = cdc_ds_wh\n",
    "REFRESH_MODE = INCREMENTAL\n",
    "AS\n",
    "SELECT\n",
    "    t.transaction_id\n",
    "    , t.customer_id\n",
    "    , c.age AS customer_age\n",
    "    , t.product_id\n",
    "    , p.product_name\n",
    "    , p.product_category\n",
    "    , t.merchant_id\n",
    "    , m.merchant_name\n",
    "    , m.merchant_category\n",
    "    , t.transaction_date\n",
    "    , t.transaction_time\n",
    "    , t.quantity\n",
    "    , t.quantity * p.price AS total_price\n",
    "    , t.transaction_card\n",
    "    , t.transaction_category\n",
    "FROM\n",
    "    CONNECTOR_DEST_DB.\"raw_cdc\".\"transactions\" t\n",
    "JOIN\n",
    "    CONNECTOR_DEST_DB.\"raw_cdc\".\"customers\" c ON t.customer_id = c.customer_id\n",
    "JOIN\n",
    "    CONNECTOR_DEST_DB.\"raw_cdc\".\"products\" p ON t.product_id = p.product_id\n",
    "JOIN\n",
    "    CONNECTOR_DEST_DB.\"raw_cdc\".\"merchants\" m ON t.merchant_id = m.merchant_id\n",
    "AND\n",
    "    m.merchant_category = p.product_category;"
   ],
   "execution_count": null,
   "outputs": []
  },
  {
   "cell_type": "markdown",
   "id": "aa916a7c-e3d4-45be-aa8f-d08dc27598ad",
   "metadata": {
    "name": "view_dynamic_table_contents_markdown",
    "collapsed": false,
    "resultHeight": 41
   },
   "source": "View the contents of the Dynamic Table."
  },
  {
   "cell_type": "code",
   "id": "d8213b5a-e283-4495-8eae-6f920b2ddcd1",
   "metadata": {
    "language": "sql",
    "name": "check_dynamic_table",
    "collapsed": false,
    "resultHeight": 357
   },
   "outputs": [],
   "source": "SELECT * FROM cdc_prod.analytics.customer_purchase_summary;",
   "execution_count": null
  },
  {
   "cell_type": "markdown",
   "id": "98880a63-5a38-4502-97af-72cff2720a19",
   "metadata": {
    "name": "clean_up_markdown",
    "collapsed": false,
    "resultHeight": 67
   },
   "source": "When you're finished with this Quickstart, uncomment and run the code below to remove all Snowflake objects that were created."
  },
  {
   "metadata": {
    "tags": [
     "clean_up"
    ],
    "name": "clean_up",
    "language": "sql"
   },
   "cell_type": "code",
   "outputs": [],
   "execution_count": null,
   "source": [
    "-- USE ROLE ACCOUNTADMIN;\n",
    "-- DROP USER IF EXISTS SNOWFLAKE_CONNECTOR_FOR_POSTGRESQL_AGENT_USER;\n",
    "\n",
    "-- DROP ROLE IF EXISTS POSTGRESQL_ADMINISTRATIVE_AGENT_ROLE;\n",
    "-- DROP ROLE IF EXISTS POSTGRESQL_AGENT_ROLE;\n",
    "-- DROP ROLE IF EXISTS SNOWFLAKE_CONNECTOR_FOR_POSTGRESQL_AGENT_ROLE;\n",
    "-- DROP ROLE IF EXISTS SNOWFLAKE_CONNECTOR_FOR_POSTGRESQL_ADMINISTRATIVE_AGENT_ROLE;\n",
    "\n",
    "-- DROP APPLICATION IF EXISTS SNOWFLAKE_CONNECTOR_FOR_POSTGRESQL CASCADE;\n",
    "\n",
    "-- DROP WAREHOUSE IF EXISTS SNOWFLAKE_CONNECTOR_FOR_POSTGRESQL_COMPUTE_WH;\n",
    "-- DROP WAREHOUSE IF EXISTS SNOWFLAKE_CONNECTOR_FOR_POSTGRESQL_OPS_WH;\n",
    "\n",
    "-- DROP DATABASE IF EXISTS CONNECTOR_DEST_DB;"
   ],
   "id": "078c92bd-1abb-4e20-ba92-6c052c1ce73e"
  }
 ]
}